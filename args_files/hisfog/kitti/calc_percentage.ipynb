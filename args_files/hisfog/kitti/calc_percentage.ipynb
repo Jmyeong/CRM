{
 "cells": [
  {
   "cell_type": "code",
   "execution_count": null,
   "id": "5aec19b2",
   "metadata": {},
   "outputs": [
    {
     "name": "stdout",
     "output_type": "stream",
     "text": [
      "137.1584699453552\n"
     ]
    }
   ],
   "source": [
    "origin=0.434\n",
    "results=0.183\n",
    "\n",
    "def calc_percentage(origin, results):\n",
    "    return (origin - results) / origin * 100\n",
    "\n",
    "print(calc_percentage(origin, results))"
   ]
  }
 ],
 "metadata": {
  "kernelspec": {
   "display_name": "jm",
   "language": "python",
   "name": "python3"
  },
  "language_info": {
   "codemirror_mode": {
    "name": "ipython",
    "version": 3
   },
   "file_extension": ".py",
   "mimetype": "text/x-python",
   "name": "python",
   "nbconvert_exporter": "python",
   "pygments_lexer": "ipython3",
   "version": "3.10.15"
  }
 },
 "nbformat": 4,
 "nbformat_minor": 5
}
